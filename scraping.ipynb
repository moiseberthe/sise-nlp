{
 "cells": [
  {
   "cell_type": "code",
   "execution_count": 16,
   "metadata": {},
   "outputs": [],
   "source": [
    "import requests\n",
    "from utils.api import get_pole_emploi_access_token\n",
    "from selenium import webdriver\n",
    "from selenium.webdriver.common.by import By\n",
    "from selenium.webdriver.support.wait import WebDriverWait\n",
    "from selenium.webdriver.support import expected_conditions as EC\n",
    "from utils.entities import Annonce\n",
    "import json\n",
    "import time"
   ]
  },
  {
   "cell_type": "code",
   "execution_count": 2,
   "metadata": {},
   "outputs": [],
   "source": [
    "sources = { 'apec': 1, 'pole-emploi': 2, 'linkedin': 3 }\n",
    "contracts = {'cdi': 1, 'cdd': 2, 'stage': 3, 'alternance': 4}"
   ]
  },
  {
   "cell_type": "markdown",
   "metadata": {},
   "source": [
    "## Scrape on APEC"
   ]
  },
  {
   "cell_type": "code",
   "execution_count": 6,
   "metadata": {},
   "outputs": [
    {
     "data": {
      "text/plain": [
       "200"
      ]
     },
     "execution_count": 6,
     "metadata": {},
     "output_type": "execute_result"
    }
   ],
   "source": [
    "# Scrape on apec\n",
    "driver = webdriver.Chrome()\n",
    "CSS = By.CSS_SELECTOR\n",
    "job_page_url = 'https://www.apec.fr/candidat/recherche-emploi.html/emploi?motsCles=data&typesConvention=143684&typesConvention=143685&typesConvention=143686&typesConvention=143687'\n",
    "jobs_apec = []\n",
    "for i in range(10):\n",
    "    driver.get(f'{job_page_url}&page={i}')\n",
    "    if(i == 0):\n",
    "        try:\n",
    "            accept_cookies = WebDriverWait(driver, 10).until(\n",
    "                EC.presence_of_element_located((By.ID, \"onetrust-accept-btn-handler\"))\n",
    "            )\n",
    "        except:\n",
    "            driver.quit()\n",
    "        accept_cookies.click()\n",
    "\n",
    "    #  job_links = driver.find_elements(CSS, '.container-result div > a')\n",
    "    try:\n",
    "        job_links = WebDriverWait(driver, 10).until(\n",
    "            EC.presence_of_all_elements_located((CSS, \".container-result div > a\"))\n",
    "        )\n",
    "    except:\n",
    "        driver.quit()\n",
    "\n",
    "    # Get url, title and company name\n",
    "    job_links = [\n",
    "        (\n",
    "            job_link.get_attribute('href'),\n",
    "            job_link.find_element(CSS, 'h2.card-title').text,\n",
    "            job_link.find_element(CSS, 'p.card-offer__company').text,\n",
    "            job_link.find_element(CSS, 'li[title=\"Date de publication\"]').text\n",
    "        )\n",
    "        for job_link in job_links\n",
    "    ]\n",
    "\n",
    "    # Loop through job links\n",
    "    for url, title, company, date in job_links:\n",
    "        \n",
    "        # Open the job page\n",
    "        driver.get(url)\n",
    "        \n",
    "        # Wait before looking for elements\n",
    "        try:\n",
    "            details = WebDriverWait(driver, 20).until(\n",
    "                EC.presence_of_all_elements_located((CSS, 'ul.details-offer-list.mb-20 > li'))\n",
    "            )\n",
    "        except:\n",
    "            print(\"quiting\")\n",
    "            driver.quit()\n",
    "        \n",
    "        # entreprise\n",
    "        company = details[0].text\n",
    "        # type de contrat\n",
    "        contrat = details[1].find_element(CSS, 'span').text\n",
    "        # lieu de travail\n",
    "        location = details[2].text\n",
    "        # description\n",
    "        description = driver.find_element(CSS, '.details-post > p').text\n",
    "        # profil recherché\n",
    "        profile = driver.find_element(CSS, '.details-post > p:nth-child(4)').text\n",
    "        detail_posts = driver.find_elements(CSS, 'apec-poste-informations > .row.border-T > .col-lg-4 > .details-post')\n",
    "        # Secteur d’activité du poste\n",
    "        activity = detail_posts[6].find_element(CSS, 'span').text\n",
    "        # Le nom du poste\n",
    "        poste = detail_posts[3].find_element(CSS, 'span').text\n",
    "        \n",
    "        # competences\n",
    "        competences = driver.find_elements(CSS, '.details-post .added-skills-container')\n",
    "        try:\n",
    "            see_more = competences[2].find_element(CSS, '.added-skills-language + p.m-0')\n",
    "            see_more.click()\n",
    "            hard_skills = competences[2].find_elements(CSS, '.added-skills-language')\n",
    "            hard_skills = [skill.text for skill in hard_skills]\n",
    "        except:\n",
    "            hard_skills = []\n",
    "\n",
    "        # Print or store the job details\n",
    "        jobs_apec.append({\n",
    "            'url': url,\n",
    "            'title': title,\n",
    "            'company': company,\n",
    "            'contrat': contrat,\n",
    "            'location': location,\n",
    "            'date': date,\n",
    "            'description': description,\n",
    "            'profile': profile,\n",
    "            'skills': hard_skills,\n",
    "            'poste': poste,\n",
    "            'activity': activity,\n",
    "            'source': 'apec',\n",
    "        })\n",
    "# Close the webdriver\n",
    "driver.quit()\n",
    "len(jobs_apec)"
   ]
  },
  {
   "cell_type": "code",
   "execution_count": 7,
   "metadata": {},
   "outputs": [],
   "source": [
    "with open('./data/apec200.json', 'w+') as f:\n",
    "    json.dump(jobs_apec, f)"
   ]
  },
  {
   "cell_type": "markdown",
   "metadata": {},
   "source": [
    "## Scrape on Pôle emploi"
   ]
  },
  {
   "cell_type": "code",
   "execution_count": 23,
   "metadata": {},
   "outputs": [
    {
     "data": {
      "text/plain": [
       "200"
      ]
     },
     "execution_count": 23,
     "metadata": {},
     "output_type": "execute_result"
    }
   ],
   "source": [
    "# access_token = get_pole_emploi_access_token()\n",
    "access_token = 'Kp1H-cy_pYBlhdLx8QXOCkea0WQ'\n",
    "header = {'Authorization': f'Bearer {access_token}'}\n",
    "jobs_pole_emploi = []\n",
    "for i in range(2):\n",
    "    response = requests.get(f'https://api.pole-emploi.io/partenaire/offresdemploi/v2/offres/search?range={i*100}-{((i+1) * 100) - 1}&motsCles=data', headers=header)\n",
    "    pole_emploi_response = response.json()['resultats']\n",
    "    \n",
    "    for job in pole_emploi_response:\n",
    "        jobs_pole_emploi.append({\n",
    "            'url': job['origineOffre']['urlOrigine'],\n",
    "            'title': job['intitule'],\n",
    "            'company': job['entreprise'].get('nom', 'Unknown'),\n",
    "            'contrat': job['typeContrat'],\n",
    "            'location': job['lieuTravail']['libelle'],\n",
    "            'date': job['dateCreation'],\n",
    "            'description': job['description'],\n",
    "            'profile': '',\n",
    "            'skills': [c['libelle'] for c in job.get('competences', [])],\n",
    "            'poste': job['appellationlibelle'],\n",
    "            'activity': job.get('secteurActiviteLibelle', 'Unknown'),\n",
    "            'source': 'pole-emploi',\n",
    "        })\n",
    "    time.sleep(1)\n",
    "len(jobs_pole_emploi)"
   ]
  },
  {
   "cell_type": "markdown",
   "metadata": {},
   "source": [
    "## Scrape on LinkedIn"
   ]
  },
  {
   "cell_type": "code",
   "execution_count": 34,
   "metadata": {},
   "outputs": [],
   "source": [
    "with open('./data/linkedin.json') as f:\n",
    "    jobs_linkedin = json.load(f)\n",
    "for job in jobs_linkedin:\n",
    "    job['profile'] = ''\n",
    "    job['skills'] = []\n",
    "    job['source'] = 'linkedin'"
   ]
  },
  {
   "cell_type": "code",
   "execution_count": 29,
   "metadata": {},
   "outputs": [],
   "source": [
    "def insert_jobs(jobs, source='apec'):\n",
    "    for job in jobs:\n",
    "        annonce = Annonce(\n",
    "            url = job['url'],\n",
    "            title = job['title'],\n",
    "            company_name = job['company'],\n",
    "            location = job['location'],\n",
    "            date = job['date'],\n",
    "            descripiton = job['description'],\n",
    "            poste = job['poste'],\n",
    "            activity = job['activity'],\n",
    "            profile = job['profile'],\n",
    "            skills = '|'.join(job['skills']),\n",
    "            contrat_id =  contracts.get(job['contrat'].strip().lower().split()[0], 5),\n",
    "            source_id = sources[source],\n",
    "        )\n",
    "        annonce.create()"
   ]
  },
  {
   "cell_type": "code",
   "execution_count": 22,
   "metadata": {},
   "outputs": [],
   "source": [
    "for i in Annonce.find_all(limit=1000):\n",
    "    Annonce.delete(i.id)\n",
    "insert_jobs(jobs_apec)\n",
    "insert_jobs(jobs_pole_emploi, source='pole-emploie')"
   ]
  },
  {
   "cell_type": "code",
   "execution_count": 37,
   "metadata": {},
   "outputs": [
    {
     "data": {
      "text/plain": [
       "200"
      ]
     },
     "execution_count": 37,
     "metadata": {},
     "output_type": "execute_result"
    }
   ],
   "source": []
  },
  {
   "cell_type": "code",
   "execution_count": 35,
   "metadata": {},
   "outputs": [],
   "source": [
    "insert_jobs(jobs_linkedin, source='linkedin')"
   ]
  },
  {
   "cell_type": "code",
   "execution_count": null,
   "metadata": {},
   "outputs": [],
   "source": [
    "description"
   ]
  },
  {
   "cell_type": "code",
   "execution_count": 8,
   "metadata": {},
   "outputs": [],
   "source": [
    "with open('./data/pole-emploi-response.json', 'w+') as f:\n",
    "    json.dump(pole_emploi_response, f)"
   ]
  },
  {
   "cell_type": "code",
   "execution_count": 9,
   "metadata": {},
   "outputs": [],
   "source": [
    "with open('./data/pole-emploi.json', 'w+') as f:\n",
    "    json.dump(jobs_pole_emploi, f)"
   ]
  },
  {
   "cell_type": "code",
   "execution_count": 10,
   "metadata": {},
   "outputs": [],
   "source": [
    "with open('./data/apec.json', 'w+') as f:\n",
    "    json.dump(jobs_apec, f)"
   ]
  },
  {
   "cell_type": "code",
   "execution_count": 38,
   "metadata": {},
   "outputs": [],
   "source": [
    "with open('./data/pole-emploi200.json', 'w+') as f:\n",
    "    json.dump(jobs_pole_emploi, f)"
   ]
  }
 ],
 "metadata": {
  "kernelspec": {
   "display_name": ".venv",
   "language": "python",
   "name": "python3"
  },
  "language_info": {
   "codemirror_mode": {
    "name": "ipython",
    "version": 3
   },
   "file_extension": ".py",
   "mimetype": "text/x-python",
   "name": "python",
   "nbconvert_exporter": "python",
   "pygments_lexer": "ipython3",
   "version": "3.11.6"
  }
 },
 "nbformat": 4,
 "nbformat_minor": 2
}
