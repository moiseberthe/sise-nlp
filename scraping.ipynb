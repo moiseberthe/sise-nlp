{
 "cells": [
  {
   "cell_type": "code",
   "execution_count": null,
   "metadata": {},
   "outputs": [],
   "source": [
    "from utils.scraper import apec_scraper, pole_emploi_scraper\n",
    "from utils.entities import Annonce\n",
    "from database.migration import insert_jobs"
   ]
  },
  {
   "cell_type": "code",
   "execution_count": null,
   "metadata": {},
   "outputs": [],
   "source": [
    "jobs_apec = apec_scraper(nb_pages=1)\n",
    "len(jobs_apec)"
   ]
  },
  {
   "cell_type": "code",
   "execution_count": null,
   "metadata": {},
   "outputs": [],
   "source": [
    "jobs_pole_emploi = pole_emploi_scraper(nb_jobs=100)\n",
    "len(jobs_pole_emploi)"
   ]
  },
  {
   "cell_type": "code",
   "execution_count": null,
   "metadata": {},
   "outputs": [],
   "source": [
    "for i in Annonce.find_all(limit=1000):\n",
    "    Annonce.delete(i.id)\n",
    "insert_jobs(jobs_apec)\n",
    "insert_jobs(jobs_pole_emploi)"
   ]
  }
 ],
 "metadata": {
  "kernelspec": {
   "display_name": ".venv",
   "language": "python",
   "name": "python3"
  },
  "language_info": {
   "codemirror_mode": {
    "name": "ipython",
    "version": 3
   },
   "file_extension": ".py",
   "mimetype": "text/x-python",
   "name": "python",
   "nbconvert_exporter": "python",
   "pygments_lexer": "ipython3",
   "version": "3.11.6"
  }
 },
 "nbformat": 4,
 "nbformat_minor": 2
}
