{
 "cells": [
  {
   "cell_type": "code",
   "execution_count": 1,
   "metadata": {},
   "outputs": [],
   "source": [
    "import requests\n",
    "import pandas as pd\n",
    "from nltk.corpus import stopwords\n",
    "from utils.nlp import clean_corpus\n",
    "from gensim.corpora import Dictionary\n",
    "from gensim.models import LdaModel"
   ]
  },
  {
   "cell_type": "code",
   "execution_count": 35,
   "metadata": {},
   "outputs": [],
   "source": [
    "# jobs = Annonce.find_all(limit=1000)\n",
    "jobs = requests.get('http://127.0.0.1:8000/annonces/?offset=0&limit=500')\n",
    "jobs = jobs.json()\n",
    "df = pd.DataFrame(jobs)"
   ]
  },
  {
   "cell_type": "code",
   "execution_count": 36,
   "metadata": {},
   "outputs": [],
   "source": [
    "corpus = df.description.to_list()"
   ]
  },
  {
   "cell_type": "code",
   "execution_count": 56,
   "metadata": {},
   "outputs": [],
   "source": [
    "stwf = stopwords.words('french')\n",
    "stwf.extend(['avoir', 'etre', 'être', 'data', 'dater'])\n",
    "# POS Tags\n",
    "pos_tags = ['PUNCT','CCONJ','CONJ','DET','ADP']"
   ]
  },
  {
   "cell_type": "code",
   "execution_count": 57,
   "metadata": {},
   "outputs": [],
   "source": [
    "stwf.extend(['donnees','donnee','données','donnée','client','clients', 'mission', 'missions', 'métier', 'poste', 'technique', 'développement',\n",
    " 'outil', 'besoin', 'équipes','équipe','equipes','equipe','projet','projets','outils','plus'])"
   ]
  },
  {
   "cell_type": "code",
   "execution_count": 58,
   "metadata": {},
   "outputs": [
    {
     "data": {
      "text/plain": [
       "['auprès luniver finance marché intervenir tant engineer analyst cadre principal suivant comprendre utilisateur traduire manière analytique identifier collecter stocker analyser développer algorithme permettre répondre problème poser veiller industrialisation extraction massif brut construire base robuste concevoir moyen communication réaliser reporting alteryx msbi bigdata spark datalake talend',\n",
       " 'archery analytics recherche cabinet tour analystengineer confirmer afin renforcer actuel doter expertise reconnaître autonomie bon relationnel collaborer autre consultant ainsi environnement travail principalsecondair fonctionnel industrie logistique fonction transverse plateforme cloud microsoft azuregoogle cloud platform plateforme onpremise server suite reporting microsoft power biqlicksense plateforme intégration sql integration service ssi azur factory adf langage programmation dax apporter conseil expertise lors concevoir développer mettre place solution analytics bout bout participer captation analyse aide consultant rédiger cahier charge spécification fonctionnel formaliser concevoir solution mettre œuvre façon répondre exigence attente utilisateur contribuer conception mise place infrastructure iaer saa paas concevoir mettre place flux automatiser modèle concevoir développer reporting aide décision calcul complexe algorithme inclure documenter solution développer assurer maintien condition opérationnel mco assurer suivi relation final participer produit interne cabinet archery participer dynamique commercial entreprise assurer veille technologique contribuer étendre expertise']"
      ]
     },
     "execution_count": 58,
     "metadata": {},
     "output_type": "execute_result"
    }
   ],
   "source": [
    "corpus_c = clean_corpus(corpus, stopwords=stwf, pos_tags=pos_tags)\n",
    "corpus_c[0:2]"
   ]
  },
  {
   "cell_type": "code",
   "execution_count": 60,
   "metadata": {},
   "outputs": [],
   "source": [
    "corpus_list = [doc.split() for doc in corpus_c]"
   ]
  },
  {
   "cell_type": "code",
   "execution_count": 62,
   "metadata": {},
   "outputs": [],
   "source": [
    "dico = Dictionary(corpus_list)\n",
    "corpus_bow = [dico.doc2bow(doc) for doc in corpus_list]"
   ]
  },
  {
   "cell_type": "code",
   "execution_count": 63,
   "metadata": {},
   "outputs": [],
   "source": [
    "lda = LdaModel(corpus_bow, id2word=dico, num_topics=5)"
   ]
  },
  {
   "cell_type": "code",
   "execution_count": 64,
   "metadata": {},
   "outputs": [
    {
     "data": {
      "text/plain": [
       "[(0,\n",
       "  '0.005*\"entreprise\" + 0.005*\"mettre\" + 0.005*\"groupe\" + 0.005*\"nouveau\" + 0.004*\"solution\" + 0.004*\"participer\" + 0.004*\"service\" + 0.004*\"gestion\" + 0.004*\"rejoindre\" + 0.004*\"place\"'),\n",
       " (1,\n",
       "  '0.006*\"analyse\" + 0.005*\"travailler\" + 0.004*\"bon\" + 0.004*\"sein\" + 0.004*\"participer\" + 0.004*\"expérience\" + 0.004*\"mettre\" + 0.004*\"tout\" + 0.004*\"nouveau\" + 0.004*\"recherche\"'),\n",
       " (2,\n",
       "  '0.007*\"mettre\" + 0.005*\"place\" + 0.005*\"mise\" + 0.005*\"gestion\" + 0.005*\"sein\" + 0.004*\"tout\" + 0.004*\"qualité\" + 0.004*\"différent\" + 0.004*\"expérience\" + 0.004*\"analyse\"'),\n",
       " (3,\n",
       "  '0.006*\"solution\" + 0.006*\"sein\" + 0.005*\"mettre\" + 0.005*\"assurer\" + 0.004*\"place\" + 0.004*\"modèle\" + 0.004*\"participer\" + 0.004*\"qualité\" + 0.004*\"mise\" + 0.004*\"faire\"'),\n",
       " (4,\n",
       "  '0.006*\"analyse\" + 0.004*\"and\" + 0.004*\"service\" + 0.004*\"travail\" + 0.004*\"performance\" + 0.004*\"expérience\" + 0.003*\"compétence\" + 0.003*\"base\" + 0.003*\"tout\" + 0.003*\"digital\"')]"
      ]
     },
     "execution_count": 64,
     "metadata": {},
     "output_type": "execute_result"
    }
   ],
   "source": [
    "lda.print_topics()"
   ]
  },
  {
   "cell_type": "code",
   "execution_count": null,
   "metadata": {},
   "outputs": [],
   "source": [
    "# if cleaned:\n",
    "#     #tf idf vectorizer object\n",
    "#     self.tfidfvect= pickle.load(open(\"./files/tfidfvect.pkl\", \"rb\"))\n",
    "#     #list of cleaned sentences\n",
    "#     self.sentences= pickle.load(open(\"./files/sentences.pkl\", \"rb\"))\n",
    "#     #kmeans object\n",
    "#     self.kmeans= None\n",
    "# else:\n",
    "#     self._clean_all()\n",
    "#     self.tfidfvect= TfidfVectorizer()\n",
    "#     self.tfidfvect.fit(self.sentences)\n",
    "#     self.kmeans= None"
   ]
  }
 ],
 "metadata": {
  "kernelspec": {
   "display_name": ".venv",
   "language": "python",
   "name": "python3"
  },
  "language_info": {
   "codemirror_mode": {
    "name": "ipython",
    "version": 3
   },
   "file_extension": ".py",
   "mimetype": "text/x-python",
   "name": "python",
   "nbconvert_exporter": "python",
   "pygments_lexer": "ipython3",
   "version": "3.11.6"
  }
 },
 "nbformat": 4,
 "nbformat_minor": 2
}
